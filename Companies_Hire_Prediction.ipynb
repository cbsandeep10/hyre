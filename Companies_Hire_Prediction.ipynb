{
  "nbformat": 4,
  "nbformat_minor": 0,
  "metadata": {
    "colab": {
      "name": "Companies_Hire.ipynb",
      "version": "0.3.2",
      "provenance": []
    },
    "kernelspec": {
      "name": "python3",
      "display_name": "Python 3"
    }
  },
  "cells": [
    {
      "metadata": {
        "id": "YDgCQs0YKamV",
        "colab_type": "code",
        "colab": {}
      },
      "cell_type": "code",
      "source": [
        "import pandas as pd\n",
        "from joblib import dump, load\n"
      ],
      "execution_count": 0,
      "outputs": []
    },
    {
      "metadata": {
        "id": "Ab2UCjisLFOf",
        "colab_type": "code",
        "outputId": "eeae3fc6-b5f0-4124-f8f8-2edde239126d",
        "colab": {
          "base_uri": "https://localhost:8080/",
          "height": 34
        }
      },
      "cell_type": "code",
      "source": [
        "# Probability that candidate gets interview \n",
        "clf = load('Jacobs_interview.joblib') \n",
        "d = [{'College Tier': 2, 'Experience': 5, 'ResumeMatch': 6, 'Cyber Security': 0, 'Data Analyst': 1, 'Quality Assurance':0,\t'SDE 1':0,\t'Software Intern':0}]\n",
        "x_pred = pd.DataFrame(data=d)\n",
        "y_pred = clf.predict(x_pred)\n",
        "arr = clf.predict_proba(x_pred)\n",
        "prob_of_interview = arr[0][1]\n",
        "prob_of_interview"
      ],
      "execution_count": 0,
      "outputs": [
        {
          "output_type": "execute_result",
          "data": {
            "text/plain": [
              "0.4139061478827425"
            ]
          },
          "metadata": {
            "tags": []
          },
          "execution_count": 71
        }
      ]
    },
    {
      "metadata": {
        "id": "RP9ka-ZbKhlt",
        "colab_type": "code",
        "outputId": "7330de5e-7c74-4fae-cd95-676b58bcff1f",
        "colab": {
          "base_uri": "https://localhost:8080/",
          "height": 34
        }
      },
      "cell_type": "code",
      "source": [
        "# Decision to hire or not\n",
        "clf = load('Jacobs_hire.joblib')\n",
        "d = [{'Technical Interview': 2, 'Behavioral Interview': 8}]\n",
        "x_pred = pd.DataFrame(data=d)\n",
        "y_pred = clf.predict(x_pred)\n",
        "arr = clf.predict_proba(x_pred)\n",
        "if arr[0][0] < arr[0][1]:\n",
        "  print(\"Hire!\")\n",
        "else:\n",
        "  print(\"No Hire!\")\n"
      ],
      "execution_count": 0,
      "outputs": [
        {
          "output_type": "stream",
          "text": [
            "No Hire!\n"
          ],
          "name": "stdout"
        }
      ]
    },
    {
      "metadata": {
        "id": "fjLHXETlK5_4",
        "colab_type": "code",
        "outputId": "cd49332a-e708-494b-cf33-f442e6465d77",
        "colab": {
          "base_uri": "https://localhost:8080/",
          "height": 34
        }
      },
      "cell_type": "code",
      "source": [
        "# Probability of good hire if hired\n",
        "clf = load('Jacobs_top.joblib') \n",
        "d = [{'College Tier': 2, 'Experience': 5, 'ResumeMatch': 6, 'Cyber Security': 0, 'Data Analyst': 1, 'Quality Assurance':0,\t'SDE 1':0,\t'Software Intern':0, 'Technical Interview': 8, 'Behavioral Interview': 8}]\n",
        "x_pred = pd.DataFrame(data=d)\n",
        "y_pred = clf.predict(x_pred)\n",
        "arr = clf.predict_proba(x_pred)\n",
        "prob_of_good_hire = arr[0][1]\n",
        "prob_of_good_hire\n"
      ],
      "execution_count": 0,
      "outputs": [
        {
          "output_type": "execute_result",
          "data": {
            "text/plain": [
              "0.6053003444915455"
            ]
          },
          "metadata": {
            "tags": []
          },
          "execution_count": 64
        }
      ]
    }
  ]
}